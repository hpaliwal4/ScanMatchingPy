{
 "cells": [
  {
   "cell_type": "code",
   "execution_count": 3,
   "metadata": {
    "collapsed": true
   },
   "outputs": [],
   "source": [
    "import matplotlib.pyplot as plt\n",
    "import matplotlib.patches as patches\n",
    "import numpy as np\n",
    "import matplotlib.transforms as transforms\n",
    "#import OccupancyGridMapping as OGM\n",
    "%matplotlib inline\n",
    "\n",
    "class Map(object):\n",
    "    \"\"\" \n",
    "    The Map class stores an occupancy grid as a two dimensional\n",
    "    numpy array. \n",
    "    \n",
    "    Public instance variables:\n",
    "\n",
    "        width      --  Number of columns in the occupancy grid.\n",
    "        height     --  Number of rows in the occupancy grid.\n",
    "        resolution --  Width of each grid square in meters. \n",
    "        origin_x   --  Position of the grid cell (0,0) in \n",
    "        origin_y   --    in the map coordinate system.\n",
    "        grid       --  numpy array with height rows and width columns.\n",
    "        \n",
    "    \n",
    "    Note that x increases with increasing column number and y increases\n",
    "    with increasing row number. \n",
    "    \"\"\"\n",
    "\n",
    "    def __init__(self, origin_x=-2.5, origin_y=-2.5, resolution=.1, \n",
    "                 width=50, height=50):\n",
    "        \"\"\" Construct an empty occupancy grid.\n",
    "        \n",
    "        Arguments: origin_x, \n",
    "                   origin_y  -- The position of grid cell (0,0) in the\n",
    "                                map coordinate frame.\n",
    "                   resolution-- width and height of the grid cells \n",
    "                                in meters.\n",
    "                   width, \n",
    "                   height    -- The grid will have height rows and width\n",
    "                                columns cells.  width is the size of\n",
    "                                the x-dimension and height is the size\n",
    "                                of the y-dimension.\n",
    "                                \n",
    "         The default arguments put (0,0) in the center of the grid. \n",
    "                                \n",
    "        \"\"\"\n",
    "        self.origin_x = origin_x\n",
    "        self.origin_y = origin_y\n",
    "        self.resolution = resolution\n",
    "        self.width = width \n",
    "        self.height = height \n",
    "        self.grid = np.zeros((height, width))\n",
    "\n",
    "    def to_message(self):\n",
    "        \"\"\" Return a nav_msgs/OccupancyGrid representation of this map. \"\"\"\n",
    "     \n",
    "        grid_msg = OccupancyGrid()\n",
    "\n",
    "        # Set up the header.\n",
    "        grid_msg.header.stamp = rospy.Time.now()\n",
    "        grid_msg.header.frame_id = \"map\"\n",
    "\n",
    "        # .info is a nav_msgs/MapMetaData message. \n",
    "        grid_msg.info.resolution = self.resolution\n",
    "        grid_msg.info.width = self.width\n",
    "        grid_msg.info.height = self.height\n",
    "        \n",
    "        # Rotated maps are not supported... quaternion represents no\n",
    "        # rotation. \n",
    "        grid_msg.info.origin = Pose(Point(self.origin_x, self.origin_y, 0),\n",
    "                               Quaternion(0, 0, 0, 1))\n",
    "\n",
    "        # Flatten the numpy array into a list of integers from 0-100.\n",
    "        # This assumes that the grid entries are probalities in the\n",
    "        # range 0-1. This code will need to be modified if the grid\n",
    "        # entries are given a different interpretation (like\n",
    "        # log-odds).\n",
    "        flat_grid = self.grid.reshape((self.grid.size,)) * 100\n",
    "        grid_msg.data = list(np.round(flat_grid))\n",
    "        return grid_msg\n",
    "\n",
    "    def set_cell(self, x, y, val):\n",
    "        \"\"\" Set the value of a cell in the grid. \n",
    "\n",
    "        Arguments: \n",
    "            x, y  - This is a point in the map coordinate frame.\n",
    "            val   - This is the value that should be assigned to the\n",
    "                    grid cell that contains (x,y).\n",
    "\n",
    "        This would probably be a helpful method!  Feel free to throw out\n",
    "        point that land outside of the grid. \n",
    "        \"\"\"\n",
    "        pass\n"
   ]
  },
  {
   "cell_type": "code",
   "execution_count": 4,
   "metadata": {},
   "outputs": [
    {
     "data": {
      "image/png": "[encoded data removed]",
      "text/plain": [
       "<matplotlib.figure.Figure at 0x7f056d5c39b0>"
      ]
     },
     "metadata": {},
     "output_type": "display_data"
    }
   ],
   "source": [
    "plt.plot([1,2,3,4],[1,4,9,16],'ro',[2,3,4,5],[1,4,9,16],'bo')\n",
    "plt.show()"
   ]
  },
  {
   "cell_type": "code",
   "execution_count": 5,
   "metadata": {},
   "outputs": [
    {
     "data": {
      "image/png": "[encoded data removed]",
      "text/plain": [
       "<matplotlib.figure.Figure at 0x7f05541695c0>"
      ]
     },
     "metadata": {},
     "output_type": "display_data"
    },
    {
     "name": "stdout",
     "output_type": "stream",
     "text": [
      "Affine2D(array([[ 72.,   0.,   0.],\n",
      "       [  0.,  72.,   0.],\n",
      "       [  0.,   0.,   1.]]))\n"
     ]
    }
   ],
   "source": [
    "#An example for the scaled translation but it is not able to do the inverse means can't find offset\n",
    "\n",
    "fig = plt.figure()\n",
    "ax = fig.add_subplot(111)\n",
    "\n",
    "# make a simple sine wave\n",
    "x = np.arange(0., 2., 0.01)\n",
    "y = np.sin(2*np.pi*x)\n",
    "line, = ax.plot(x, y, lw=3, color='blue')\n",
    "\n",
    "# shift the object over 2 points, and down 2 points\n",
    "dx, dy = 10/72., -10/72.\n",
    "offset = transforms.ScaledTranslation(dx, dy,\n",
    "  fig.dpi_scale_trans)\n",
    "shadow_transform = ax.transData + offset\n",
    "\n",
    "# now plot the same data with our offset transform;\n",
    "# use the zorder to make sure we are below the line\n",
    "ax.plot(x, y, lw=3, color='gray',\n",
    "  transform=shadow_transform,\n",
    "  zorder=0.5*line.get_zorder())\n",
    "\n",
    "ax.set_title('creating a shadow effect with an offset transform')\n",
    "plt.show()\n",
    "print(fig.dpi_scale_trans)"
   ]
  },
  {
   "cell_type": "code",
   "execution_count": null,
   "metadata": {
    "collapsed": true
   },
   "outputs": [],
   "source": [
    "plt.setp(line)"
   ]
  },
  {
   "cell_type": "code",
   "execution_count": null,
   "metadata": {
    "collapsed": true
   },
   "outputs": [],
   "source": [
    "print(line.zorder)"
   ]
  },
  {
   "cell_type": "code",
   "execution_count": 6,
   "metadata": {},
   "outputs": [
    {
     "name": "stdout",
     "output_type": "stream",
     "text": [
      "[[ 0.  0.  0.]\n",
      " [ 0.  0.  0.]\n",
      " [ 0.  0.  0.]\n",
      " [ 0.  0.  0.]\n",
      " [ 0.  0.  0.]\n",
      " [ 0.  0.  0.]\n",
      " [ 0.  0.  0.]\n",
      " [ 0.  0.  0.]\n",
      " [ 0.  0.  0.]\n",
      " [ 0.  0.  0.]]\n"
     ]
    }
   ],
   "source": [
    "# Starting of Code\n",
    "\n",
    "numScans = 10 #Total no of scans in laserMsg\n",
    "initialPose = np.array([0, 0, 0])# Initial Pose of Robot\n",
    "poseList = np.zeros((numScans,3))# Initialise all the positions at scan time as [0 0 0]\n",
    "poseList[0] = initialPose\n",
    "transform = initialPose\n",
    "print(poseList)"
   ]
  },
  {
   "cell_type": "code",
   "execution_count": 12,
   "metadata": {},
   "outputs": [
    {
     "data": {
      "text/plain": [
       "['origin_x', 'origin_y', 'resolution', 'width', 'height', 'grid']"
      ]
     },
     "execution_count": 12,
     "metadata": {},
     "output_type": "execute_result"
    }
   ],
   "source": [
    "# Created an Occupancy Grid With The Help of Above Object\n",
    "map = Map(origin_x=-7.5, origin_y=-7.5, resolution=20, \n",
    "                 width=15, height=15)"
   ]
  },
  {
   "cell_type": "code",
   "execution_count": 1,
   "metadata": {},
   "outputs": [
    {
     "ename": "SyntaxError",
     "evalue": "invalid syntax (<ipython-input-1-168eaf68bf9e>, line 18)",
     "output_type": "error",
     "traceback": [
      "\u001b[0;36m  File \u001b[0;32m\"<ipython-input-1-168eaf68bf9e>\"\u001b[0;36m, line \u001b[0;32m18\u001b[0m\n\u001b[0;31m    'MaxIterations', 500, 'InitialPose', transform)\u001b[0m\n\u001b[0m                  ^\u001b[0m\n\u001b[0;31mSyntaxError\u001b[0m\u001b[0;31m:\u001b[0m invalid syntax\n"
     ]
    }
   ],
   "source": [
    "# Loop through all the scans and calculate the relative poses between them\n",
    "for idx in range(1,numScans):\n",
    "    # Process the data in pairs.\n",
    "    \n",
    "    referenceScan = lidarScan[idx-1]\n",
    "    \n",
    "    #currentScanMsg = laserMsg{idx};\n",
    "    #currentScan = lidarScan(currentScanMsg);\n",
    "    \n",
    "    currentScan = lidarScan[idx]\n",
    "    \n",
    "    # Run scan matching. Note that the scan angles stay the same and do\n",
    "    # not have to be recomputed. To increase accuracy, set the maximum\n",
    "    # number of iterations to 500. Use the transform from the last\n",
    "    # iteration as the initial estimate.\n",
    "    \n",
    "    ''''\n",
    "    Can't find the below function which returns the offset b/w two curves\n",
    "    \n",
    "    \n",
    "    transform, stats = matchScans(currentScan, referenceScan, ...\n",
    "        'MaxIterations', 500, 'InitialPose', transform)\n",
    "\n",
    "    # The |Score| in the statistics structure is a good indication of the\n",
    "    # quality of the scan match.\n",
    "    if( stats.Score / currentScan.Count < 1.0 ):\n",
    "        disp(['Low scan match score for index ' num2str(idx) '. Score = ' num2str(stats.Score) '.'])\n",
    "    \n",
    "\n",
    "    # Maintain the list of robot poses.\n",
    "    absolutePose = exampleHelperComposeTransform(poseList(idx-1,:), transform);\n",
    "    poseList(idx,:) = absolutePose;\n",
    "\n",
    "    # Integrate the current laser scan into the probabilistic occupancy\n",
    "    # grid.\n",
    "    insertRay(map, absolutePose, currentScan, double(currentScanMsg.RangeMax));\n",
    "    ''''"
   ]
  },
  {
   "cell_type": "code",
   "execution_count": 13,
   "metadata": {},
   "outputs": [
    {
     "ename": "FileNotFoundError",
     "evalue": "[Errno 2] No such file or directory: 'scans.npy'",
     "output_type": "error",
     "traceback": [
      "\u001b[0;31m---------------------------------------------------------------------------\u001b[0m",
      "\u001b[0;31mFileNotFoundError\u001b[0m                         Traceback (most recent call last)",
      "\u001b[0;32m<ipython-input-13-c7c327ba7db8>\u001b[0m in \u001b[0;36m<module>\u001b[0;34m()\u001b[0m\n\u001b[1;32m     35\u001b[0m \u001b[0;34m\u001b[0m\u001b[0m\n\u001b[1;32m     36\u001b[0m \u001b[0;32mif\u001b[0m \u001b[0m__name__\u001b[0m \u001b[0;34m==\u001b[0m \u001b[0;34m\"__main__\"\u001b[0m\u001b[0;34m:\u001b[0m\u001b[0;34m\u001b[0m\u001b[0m\n\u001b[0;32m---> 37\u001b[0;31m   \u001b[0mscans\u001b[0m \u001b[0;34m=\u001b[0m \u001b[0mnp\u001b[0m\u001b[0;34m.\u001b[0m\u001b[0mload\u001b[0m\u001b[0;34m(\u001b[0m\u001b[0;34m\"scans.npy\"\u001b[0m\u001b[0;34m)\u001b[0m\u001b[0;34m\u001b[0m\u001b[0m\n\u001b[0m\u001b[1;32m     38\u001b[0m   \u001b[0mdeltas\u001b[0m \u001b[0;34m=\u001b[0m \u001b[0mnp\u001b[0m\u001b[0;34m.\u001b[0m\u001b[0mload\u001b[0m\u001b[0;34m(\u001b[0m\u001b[0;34m\"deltas.npy\"\u001b[0m\u001b[0;34m)\u001b[0m\u001b[0;34m\u001b[0m\u001b[0m\n\u001b[1;32m     39\u001b[0m \u001b[0;34m\u001b[0m\u001b[0m\n",
      "\u001b[0;32m~/anaconda3/lib/python3.6/site-packages/numpy/lib/npyio.py\u001b[0m in \u001b[0;36mload\u001b[0;34m(file, mmap_mode, allow_pickle, fix_imports, encoding)\u001b[0m\n\u001b[1;32m    368\u001b[0m     \u001b[0mown_fid\u001b[0m \u001b[0;34m=\u001b[0m \u001b[0;32mFalse\u001b[0m\u001b[0;34m\u001b[0m\u001b[0m\n\u001b[1;32m    369\u001b[0m     \u001b[0;32mif\u001b[0m \u001b[0misinstance\u001b[0m\u001b[0;34m(\u001b[0m\u001b[0mfile\u001b[0m\u001b[0;34m,\u001b[0m \u001b[0mbasestring\u001b[0m\u001b[0;34m)\u001b[0m\u001b[0;34m:\u001b[0m\u001b[0;34m\u001b[0m\u001b[0m\n\u001b[0;32m--> 370\u001b[0;31m         \u001b[0mfid\u001b[0m \u001b[0;34m=\u001b[0m \u001b[0mopen\u001b[0m\u001b[0;34m(\u001b[0m\u001b[0mfile\u001b[0m\u001b[0;34m,\u001b[0m \u001b[0;34m\"rb\"\u001b[0m\u001b[0;34m)\u001b[0m\u001b[0;34m\u001b[0m\u001b[0m\n\u001b[0m\u001b[1;32m    371\u001b[0m         \u001b[0mown_fid\u001b[0m \u001b[0;34m=\u001b[0m \u001b[0;32mTrue\u001b[0m\u001b[0;34m\u001b[0m\u001b[0m\n\u001b[1;32m    372\u001b[0m     \u001b[0;32melif\u001b[0m \u001b[0mis_pathlib_path\u001b[0m\u001b[0;34m(\u001b[0m\u001b[0mfile\u001b[0m\u001b[0;34m)\u001b[0m\u001b[0;34m:\u001b[0m\u001b[0;34m\u001b[0m\u001b[0m\n",
      "\u001b[0;31mFileNotFoundError\u001b[0m: [Errno 2] No such file or directory: 'scans.npy'"
     ]
    }
   ],
   "source": [
    "import numpy as np\n",
    "import scipy\n",
    "\n",
    "import matplotlib as mpl\n",
    "import matplotlib.pyplot as plt\n",
    "mpl.rcParams['figure.figsize'] = (10, 10)\n",
    "\n",
    "def convert2xy(scans):\n",
    "    angles_loc = np.deg2rad(np.linspace(-120, 120, 682))\n",
    "    valid_obj = scans > 0.02\n",
    "    return (np.array([scans*np.cos(angles_loc), scans*np.sin(angles_loc)]).swapaxes(0, 1).swapaxes(1, 2).reshape(-1, 2)\n",
    "            , valid_obj.ravel())\n",
    "\n",
    "def rot(points, angle):\n",
    "    return np.append([np.cos(angle)*points[:, 0]-np.sin(angle)*points[:, 1]], \n",
    "                     [np.sin(angle)*points[:, 0]+np.cos(angle)*points[:, 1]], axis = 0).T\n",
    "    # pass # rotated_points\n",
    "\n",
    "def integr(deltas):\n",
    "    angles =  np.cumsum(np.append([0], deltas[:, 2], axis=0), axis=0)\n",
    "    return np.append(np.cumsum(np.append([[0, 0]], \n",
    "                              rot(deltas[:, :2], angles[1:]), axis = 0), axis=0), \n",
    "                    angles.reshape(-1, 1), axis=-1)#trajectory\n",
    "\n",
    "def plot_points_cloud(trajectory, scans, valid, verbose=True):\n",
    "    plt.figure()\n",
    "    x, y, angles = trajectory[:, 0], trajectory[:, 1], trajectory[:, 2]\n",
    "    if verbose:\n",
    "        plt.plot(x, y, lw=3, c='blue')\n",
    "    clouds = rot(scans[valid], np.repeat(angles, 682)[valid]) + (np.repeat(trajectory[:, :2], 682, axis=0))[valid]\n",
    "    if verbose:\n",
    "        plt.scatter(clouds[:, 0], \n",
    "                    clouds[:, 1], s=0.5, c='r')\n",
    "    # pass # figure\n",
    "\n",
    "if __name__ == \"__main__\":\n",
    "  scans = np.load(\"scans.npy\")\n",
    "  deltas = np.load(\"deltas.npy\")\n",
    "  \n",
    "  ## No cycles, only numpy, but different function syntax: convert2xy, plot_points_cloud\n",
    "  import time\n",
    "  tm = time.time()\n",
    "  trajectory = integr(deltas)\n",
    "  xy_scans, valid = convert2xy(scans)\n",
    "  plot_points_cloud(trajectory, xy_scans, valid, verbose=False)\n",
    "  print(\"Past: {} sec\".format(time.time() - tm))\n",
    "  # 0.7 sec if verbose=False -> no plotting only computations\n",
    "  # 11 sec with plotting ()a lot of points\n",
    "  "
   ]
  },
  {
   "cell_type": "code",
   "execution_count": null,
   "metadata": {
    "collapsed": true
   },
   "outputs": [],
   "source": []
  }
 ],
 "metadata": {
  "kernelspec": {
   "display_name": "Python 3",
   "language": "python",
   "name": "python3"
  },
  "language_info": {
   "codemirror_mode": {
    "name": "ipython",
    "version": 3
   },
   "file_extension": ".py",
   "mimetype": "text/x-python",
   "name": "python",
   "nbconvert_exporter": "python",
   "pygments_lexer": "ipython3",
   "version": "3.6.3"
  }
 },
 "nbformat": 4,
 "nbformat_minor": 2
}
